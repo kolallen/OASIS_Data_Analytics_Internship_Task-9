{
  "nbformat": 4,
  "nbformat_minor": 0,
  "metadata": {
    "colab": {
      "provenance": [],
      "authorship_tag": "ABX9TyOKbTXKdCPkpEyXjRu6JjWT",
      "include_colab_link": true
    },
    "kernelspec": {
      "name": "python3",
      "display_name": "Python 3"
    },
    "language_info": {
      "name": "python"
    }
  },
  "cells": [
    {
      "cell_type": "markdown",
      "metadata": {
        "id": "view-in-github",
        "colab_type": "text"
      },
      "source": [
        "<a href=\"https://colab.research.google.com/github/kolallen/OASIS_Data_Analytics_Internship_Task-9/blob/main/OASIS_INFOBYTE_Internship_Data_Analytics_Task_9_Autocomplete_and_Autocorrect_Data_Analytics.ipynb\" target=\"_parent\"><img src=\"https://colab.research.google.com/assets/colab-badge.svg\" alt=\"Open In Colab\"/></a>"
      ]
    },
    {
      "cell_type": "markdown",
      "source": [
        "**Dataset Collection**"
      ],
      "metadata": {
        "id": "OoJAkZx8OVZZ"
      }
    },
    {
      "cell_type": "code",
      "execution_count": null,
      "metadata": {
        "id": "4qRaqZKjNTys"
      },
      "outputs": [],
      "source": [
        "data = [\n",
        "    \"Transaction approved for $100 at Amazon.\",\n",
        "    \"Payment declined at Starbucks.\",\n",
        "    \"Your credit card bill is due on the 5th of every month.\",\n",
        "    \"You have been charged an annual fee of $50.\",\n",
        "    \"Payment received for your recent transaction.\"\n",
        "]"
      ]
    },
    {
      "cell_type": "markdown",
      "source": [
        "**NLP Preprocessing**"
      ],
      "metadata": {
        "id": "HwBe4QokOcEY"
      }
    },
    {
      "cell_type": "code",
      "source": [
        "import nltk\n",
        "import spacy\n",
        "import string\n",
        "from nltk.corpus import stopwords\n",
        "from nltk.tokenize import word_tokenize\n",
        "\n",
        "nltk.download('punkt')\n",
        "nltk.download('stopwords')\n",
        "\n",
        "stop_words = set(stopwords.words('english'))\n",
        "nlp = spacy.load(\"en_core_web_sm\")\n",
        "\n",
        "def preprocess(text):\n",
        "    # Tokenization and lowercasing\n",
        "    tokens = word_tokenize(text.lower())\n",
        "\n",
        "    # Removing stop words and punctuation\n",
        "    tokens = [word for word in tokens if word not in stop_words and word not in string.punctuation]\n",
        "\n",
        "    # Lemmatization\n",
        "    tokens = [token.lemma_ for token in nlp(' '.join(tokens))]\n",
        "\n",
        "    return tokens\n",
        "\n",
        "preprocessed_data = [preprocess(sentence) for sentence in data]\n",
        "print(preprocessed_data)"
      ],
      "metadata": {
        "colab": {
          "base_uri": "https://localhost:8080/"
        },
        "id": "iHBWZ7KDNrb0",
        "outputId": "308fe054-a840-4c96-afc6-3fed58ff99ea"
      },
      "execution_count": null,
      "outputs": [
        {
          "output_type": "stream",
          "name": "stderr",
          "text": [
            "[nltk_data] Downloading package punkt to /root/nltk_data...\n",
            "[nltk_data]   Unzipping tokenizers/punkt.zip.\n",
            "[nltk_data] Downloading package stopwords to /root/nltk_data...\n",
            "[nltk_data]   Unzipping corpora/stopwords.zip.\n"
          ]
        },
        {
          "output_type": "stream",
          "name": "stdout",
          "text": [
            "[['transaction', 'approve', '100', 'amazon'], ['payment', 'decline', 'starbuck'], ['credit', 'card', 'bill', 'due', '5th', 'every', 'month'], ['charge', 'annual', 'fee', '50'], ['payment', 'receive', 'recent', 'transaction']]\n"
          ]
        }
      ]
    },
    {
      "cell_type": "markdown",
      "source": [
        "**Autocomplete**"
      ],
      "metadata": {
        "id": "FTIkxux9Ovnr"
      }
    },
    {
      "cell_type": "code",
      "source": [
        "from collections import defaultdict, Counter\n",
        "import random\n",
        "\n",
        "# Create bigrams from preprocessed data\n",
        "bigrams = []\n",
        "for sentence in preprocessed_data:\n",
        "    bigrams.extend([(sentence[i], sentence[i+1]) for i in range(len(sentence)-1)])\n",
        "\n",
        "bigram_model = defaultdict(Counter)\n",
        "for w1, w2 in bigrams:\n",
        "    bigram_model[w1][w2] += 1\n",
        "\n",
        "def autocomplete(word, model, n=3):\n",
        "    if word in model:\n",
        "        return model[word].most_common(n)\n",
        "    else:\n",
        "        return []\n",
        "\n",
        "# Example usage\n",
        "print(autocomplete(\"payment\", bigram_model))"
      ],
      "metadata": {
        "colab": {
          "base_uri": "https://localhost:8080/"
        },
        "id": "KKlHP3LLNwYj",
        "outputId": "b1e39a02-e45e-4966-a9c0-30ebcc493510"
      },
      "execution_count": null,
      "outputs": [
        {
          "output_type": "stream",
          "name": "stdout",
          "text": [
            "[('decline', 1), ('receive', 1)]\n"
          ]
        }
      ]
    },
    {
      "cell_type": "markdown",
      "source": [
        "**Autocorrect**"
      ],
      "metadata": {
        "id": "iWixghL3OyxB"
      }
    },
    {
      "cell_type": "code",
      "source": [
        "def edit_distance(word1, word2):\n",
        "    if len(word1) < len(word2):\n",
        "        return edit_distance(word2, word1)\n",
        "\n",
        "    if len(word2) == 0:\n",
        "        return len(word1)\n",
        "\n",
        "    previous_row = range(len(word2) + 1)\n",
        "    for i, c1 in enumerate(word1):\n",
        "        current_row = [i + 1]\n",
        "        for j, c2 in enumerate(word2):\n",
        "            insertions = previous_row[j + 1] + 1\n",
        "            deletions = current_row[j] + 1\n",
        "            substitutions = previous_row[j] + (c1 != c2)\n",
        "            current_row.append(min(insertions, deletions, substitutions))\n",
        "        previous_row = current_row\n",
        "\n",
        "    return previous_row[-1]\n",
        "\n",
        "def autocorrect(word, vocab):\n",
        "    distances = [(edit_distance(word, w), w) for w in vocab]\n",
        "    return min(distances, key=lambda x: x[0])[1]\n",
        "\n",
        "# Example vocabulary\n",
        "vocab = {word for sentence in preprocessed_data for word in sentence}\n",
        "\n",
        "# Example usage\n",
        "print(autocorrect(\"recieve\", vocab))"
      ],
      "metadata": {
        "colab": {
          "base_uri": "https://localhost:8080/"
        },
        "id": "MByQXOvYN6QA",
        "outputId": "60f2b428-6488-4173-f0dd-4b886af84d36"
      },
      "execution_count": null,
      "outputs": [
        {
          "output_type": "stream",
          "name": "stdout",
          "text": [
            "receive\n"
          ]
        }
      ]
    },
    {
      "cell_type": "markdown",
      "source": [
        "**Metrics**"
      ],
      "metadata": {
        "id": "wKPBdTFqO3k6"
      }
    },
    {
      "cell_type": "code",
      "source": [
        "def accuracy(predictions, targets):\n",
        "    correct = sum([p == t for p, t in zip(predictions, targets)])\n",
        "    return correct / len(predictions)\n",
        "\n",
        "# Example usage\n",
        "autocomplete_predictions = [\"received\", \"payment\"]\n",
        "autocomplete_targets = [\"received\", \"payment\"]\n",
        "print(f\"Autocomplete Accuracy: {accuracy(autocomplete_predictions, autocomplete_targets)}\")\n",
        "\n",
        "autocorrect_predictions = [\"receive\"]\n",
        "autocorrect_targets = [\"receive\"]\n",
        "print(f\"Autocorrect Accuracy: {accuracy(autocorrect_predictions, autocorrect_targets)}\")"
      ],
      "metadata": {
        "colab": {
          "base_uri": "https://localhost:8080/"
        },
        "id": "3HcK59JMN-Xz",
        "outputId": "4d6f8a70-52df-43db-868a-375ee97ce4eb"
      },
      "execution_count": null,
      "outputs": [
        {
          "output_type": "stream",
          "name": "stdout",
          "text": [
            "Autocomplete Accuracy: 1.0\n",
            "Autocorrect Accuracy: 1.0\n"
          ]
        }
      ]
    },
    {
      "cell_type": "markdown",
      "source": [
        "**User Experience**"
      ],
      "metadata": {
        "id": "V0NARp-jO_bI"
      }
    },
    {
      "cell_type": "code",
      "source": [
        "# Simulated user feedback\n",
        "user_feedback = {\n",
        "    \"autocomplete\": [(\"received\", True), (\"payment\", True)],\n",
        "    \"autocorrect\": [(\"receive\", True)]\n",
        "}\n",
        "\n",
        "def user_feedback_accuracy(feedback):\n",
        "    correct = sum([correct for _, correct in feedback])\n",
        "    return correct / len(feedback)\n",
        "\n",
        "# Example usage\n",
        "print(f\"Autocomplete User Feedback Accuracy: {user_feedback_accuracy(user_feedback['autocomplete'])}\")\n",
        "print(f\"Autocorrect User Feedback Accuracy: {user_feedback_accuracy(user_feedback['autocorrect'])}\")"
      ],
      "metadata": {
        "colab": {
          "base_uri": "https://localhost:8080/"
        },
        "id": "zHqZ5UTyODwh",
        "outputId": "03dc0f30-47dc-4286-deaa-0fb66c84eda1"
      },
      "execution_count": null,
      "outputs": [
        {
          "output_type": "stream",
          "name": "stdout",
          "text": [
            "Autocomplete User Feedback Accuracy: 1.0\n",
            "Autocorrect User Feedback Accuracy: 1.0\n"
          ]
        }
      ]
    },
    {
      "cell_type": "markdown",
      "source": [
        "**Algorithm Comparison**"
      ],
      "metadata": {
        "id": "D5ZNq-_lPHt_"
      }
    },
    {
      "cell_type": "code",
      "source": [
        "def compare_models(models, test_data, metric):\n",
        "    results = {}\n",
        "    for model_name, model_func in models.items():\n",
        "        predictions = [model_func(word) for word in test_data]\n",
        "        results[model_name] = metric(predictions, test_data)\n",
        "    return results\n",
        "\n",
        "# Example usage\n",
        "models = {\n",
        "    \"bigram_autocomplete\": lambda word: autocomplete(word, bigram_model),\n",
        "    \"edit_distance_autocorrect\": lambda word: autocorrect(word, vocab)\n",
        "}\n",
        "\n",
        "test_data = [\"payment\", \"received\"]\n",
        "print(compare_models(models, test_data, accuracy))"
      ],
      "metadata": {
        "colab": {
          "base_uri": "https://localhost:8080/"
        },
        "id": "ySA8JNkLOIWV",
        "outputId": "fe408c1e-2b40-441f-c7b5-df24fa63717d"
      },
      "execution_count": null,
      "outputs": [
        {
          "output_type": "stream",
          "name": "stdout",
          "text": [
            "{'bigram_autocomplete': 0.0, 'edit_distance_autocorrect': 0.5}\n"
          ]
        }
      ]
    },
    {
      "cell_type": "markdown",
      "source": [
        "**Visualization**"
      ],
      "metadata": {
        "id": "5G-D4rtpPMxS"
      }
    },
    {
      "cell_type": "code",
      "source": [
        "import matplotlib.pyplot as plt\n",
        "\n",
        "def plot_results(results):\n",
        "    names = list(results.keys())\n",
        "    values = list(results.values())\n",
        "\n",
        "    plt.figure(figsize=(9, 6))\n",
        "    plt.bar(names, values)\n",
        "    plt.xlabel('Models')\n",
        "    plt.ylabel('Accuracy')\n",
        "    plt.title('Model Comparison')\n",
        "    plt.show()\n",
        "\n",
        "# Example usage\n",
        "results = compare_models(models, test_data, accuracy)\n",
        "plot_results(results)"
      ],
      "metadata": {
        "colab": {
          "base_uri": "https://localhost:8080/",
          "height": 564
        },
        "id": "HRSNasBBOLtz",
        "outputId": "fa3ce738-a1b8-4e98-9923-c8b85ba6cf8d"
      },
      "execution_count": null,
      "outputs": [
        {
          "output_type": "display_data",
          "data": {
            "text/plain": [
              "<Figure size 900x600 with 1 Axes>"
            ],
            "image/png": "[encoded data removed]"
          },
          "metadata": {}
        }
      ]
    }
  ]
}